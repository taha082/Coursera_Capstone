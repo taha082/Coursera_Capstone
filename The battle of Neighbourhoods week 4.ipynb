{
 "cells": [
  {
   "cell_type": "markdown",
   "metadata": {},
   "source": [
    "## Capstone Project - The Battle of Neighbourhoods\n",
    "### Introduction / Business Problem  \n",
    "### Opening of a new Indian food restaurant in Mumbai city    \n",
    "\n",
    "\n",
    "### 1. Introduction  \n",
    "“People who love to eat are always the best people”. [1] \n",
    "Restaurants are where we always go to eat. These are the places where we eat peacefully. Try new dishes, cuisines. In India, people love to eat Indian food. Why? Because India is a diversified country. Each state has different dishes, different tastes. Hence you will find Indian restaurant all over the places. As expected, Mumbai city has so many Indian food restaurants. Hence to open a new restaurant, an analysis must be done. \n",
    "The objective of this project is to analyse and get the best suitable location to open an Indian food restaurant in Mumbai city.  For this analysis machine learning technique like clustering will be used. \n",
    "#### Problem Statement- “Best suitable location to open Indian food restaurant in Mumbai city.” \n",
    "So, the target audience for this project is a businessman who is willing to invest in any location regardless of property cost. Or for someone who is trying to extend his Indian food restaurant chain in Mumbai city. For small investors this may not be a good idea. \n",
    "\n",
    "### 2. Data and Methodology \n",
    "Data from following sources will be used: \n",
    "- List of neighbourhoods from Wikipedia [2] \n",
    "- Coordinates (Geocoder Python) using OpenStreetMaps \n",
    "- Restaurant venues using Foursquare API [3]  \n",
    "Now, usage of this data will be explained: \n",
    "- From Wikipedia page, we will get the list of neighbourhoods. For this process, BeautifulSoup Python library will be used. Using these neighbourhoods will be added in the list and later into a data frame. \n",
    "- Geocoder in Python will be used to get coordinates of the neighbourhoods. Coordinates will be joined with neighbourhoods into the data frame.  \n",
    "- Now using Foursquare API we will get a list of venues and their category. \n",
    "- Data cleaning will be done at all stages whenever required. \n",
    "- Also, data visualisation will be done using Folium maps, a Python library. \n",
    "- Machine Learning technique clustering will be used to get results\n",
    "\n",
    "\n",
    "### 3. References:  \n",
    "- The All-Time Greatest Quotes About Food And Eating: https://www.delish.com/food/g25438962/food-quotes/  \n",
    "- List of neighborhoods in Mumbai: https://en.wikipedia.org/wiki/List_of_neighbourhoods_in_Mumbai  \n",
    "- Foursquare Developers: https://developer.foursquare.com/ "
   ]
  }
 ],
 "metadata": {
  "kernelspec": {
   "display_name": "Python 3",
   "language": "python",
   "name": "python3"
  },
  "language_info": {
   "codemirror_mode": {
    "name": "ipython",
    "version": 3
   },
   "file_extension": ".py",
   "mimetype": "text/x-python",
   "name": "python",
   "nbconvert_exporter": "python",
   "pygments_lexer": "ipython3",
   "version": "3.7.3"
  }
 },
 "nbformat": 4,
 "nbformat_minor": 2
}
