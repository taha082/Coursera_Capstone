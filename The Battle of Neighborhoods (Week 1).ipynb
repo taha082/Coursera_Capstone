{
 "cells": [
  {
   "cell_type": "markdown",
   "metadata": {},
   "source": [
    "# Capstone Project - The Battle of Neighbourhoods\n",
    "## Introduction / Business Problem\n",
    "### \"Which locality of all the cities in United States Of America would be the best place to start a Gaming Arcade?\"\n",
    "A gaming company is interested in starting a gaming arcade in the best locality of all the cities in US. He defines a best locatlity based on the following constraints,\n",
    "\n",
    "- Population of each location\n",
    "- Venues in each locality\n",
    "- Per Capital income\n",
    "- Population density of a locality\n",
    "\n",
    "The category of the venues that he's interested in are,\n",
    "\n",
    "- Arts and Entertainment\n",
    "- Outdoors & Recreation\n",
    "- Professional & Other places\n",
    "- Residence\n",
    "- Travel & Transport\n",
    "- Event\n",
    "- Shops & Service\n",
    "- College and University\n",
    "- Food\n",
    "- Nightife Spot\n",
    "\n",
    "## Data\n",
    "### To help the company set up a gaming arcade, we will get the data from the below sources\n",
    "- List of all the cities in US with population density and coordinates: \n",
    " https://en.wikipedia.org/wiki/List_of_United_States_cities_by_population\n",
    "- List of all the cities in US with Per Capita Income : \n",
    " https://en.wikipedia.org/wiki/List_of_United_States_counties_by_per_capita_income\n",
    "\n",
    "Using Four Square API to get the following\n",
    "\n",
    "- List of all venues in each city\n",
    "- List of all venues in each locality in the selected city\n",
    "Using the above data we will first select best city to proceed with based on the values like Per capita income of the state, population density, number of venues (as we are giving weights to each venue based on its category).\n",
    "\n",
    "Once we select a city, we then go hunting for Localities. Again, we do it using the same approach which is based on the scores of venues in each locality."
   ]
  }
 ],
 "metadata": {
  "kernelspec": {
   "display_name": "Python 3",
   "language": "python",
   "name": "python3"
  },
  "language_info": {
   "codemirror_mode": {
    "name": "ipython",
    "version": 3
   },
   "file_extension": ".py",
   "mimetype": "text/x-python",
   "name": "python",
   "nbconvert_exporter": "python",
   "pygments_lexer": "ipython3",
   "version": "3.7.3"
  }
 },
 "nbformat": 4,
 "nbformat_minor": 2
}
